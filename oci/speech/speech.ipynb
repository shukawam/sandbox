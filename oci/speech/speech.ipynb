{
 "cells": [
  {
   "cell_type": "code",
   "execution_count": null,
   "metadata": {},
   "outputs": [],
   "source": [
    "# get sample data\n",
    "!mkdir sample\n",
    "!wget https://oracle-livelabs.github.io/analytics-ai/oci-artificial-intelligence/ai-speech/object-storage/files/oracle-advertising.wav\n",
    "!wget https://oracle-livelabs.github.io/analytics-ai/oci-artificial-intelligence/ai-speech/object-storage/files/oracle-redbull-racing.wav\n",
    "!wget https://oracle-livelabs.github.io/analytics-ai/oci-artificial-intelligence/ai-speech/object-storage/files/ready-player-one.wav\n",
    "!wget https://oracle-livelabs.github.io/analytics-ai/oci-artificial-intelligence/ai-speech/object-storage/files/the-poet.wav"
   ]
  },
  {
   "cell_type": "markdown",
   "metadata": {},
   "source": [
    "translate wav file using ffmpeg\n",
    "\n",
    "```bash\n",
    "ffmpeg -i ./sample/oracle-advertising.wav -c copy -fflags +bitexact -flags:v +bitexact -flags:a +bitexact ./out/oracle-advertising.wav\n",
    "ffmpeg -i ./sample/oracle-redbull-racing.wav -c copy -fflags +bitexact -flags:v +bitexact -flags:a +bitexact ./out/oracle-redbull-racing.wav\n",
    "ffmpeg -i ./sample/ready-player-one.wav -c copy -fflags +bitexact -flags:v +bitexact -flags:a +bitexact ./out/ready-player.wav\n",
    "ffmpeg -i ./sample/the-poet.wav -c copy -fflags +bitexact -flags:v +bitexact -flags:a +bitexact ./out/the-poet.wav\n",
    "```\n",
    "\n",
    "upload oci object storage\n",
    "\n",
    "```bash\n",
    "oci os bucket create --name speech-bucket -c $C\n",
    "oci os object put --file ./out/oracle-advertising.wav --bucket-name speech-bucket\n",
    "oci os object put --file ./out/oracle-redbull-racing.wav --bucket-name speech-bucket\n",
    "oci os object put --file ./out/ready-player.wav --bucket-name speech-bucket\n",
    "oci os object put --file ./out/the-poet.wav --bucket-name speech-bucket\n",
    "```"
   ]
  },
  {
   "cell_type": "code",
   "execution_count": null,
   "metadata": {},
   "outputs": [],
   "source": [
    "import oci\n",
    "from oci.config import from_file\n",
    "\n",
    "import os\n",
    "\n",
    "ai_client = oci.ai_speech.AIServiceSpeechClient(oci.config.from_file())\n",
    "\n",
    "# Give your job related details in these fields\n",
    "DISPLAY_NAME = \"speech-python-sdk-demo\"\n",
    "COMPARTMENT_ID = os.environ.get(\"C\")\n",
    "DESCRIPTION = \"advertising\"\n",
    "NAMESPACE = \"orasejapan\"\n",
    "BUCKET = \"speech-bucket\"\n",
    "JOB_PREFIX = \"python-sdk-demo\"\n",
    "LANGUAGE_CODE = \"en-US\"\n",
    "FILE_NAMES = [\"oracle-advertising.wav\", \"oracle-redbull-racing.wav\", \"ready-player.wav\", \"the-poet.wav\"]\n",
    "MODE_DETAILS = oci.ai_speech.models.TranscriptionModelDetails(domain=\"GENERIC\", language_code=LANGUAGE_CODE)\n",
    "OBJECT_LOCATION = oci.ai_speech.models.ObjectLocation(namespace_name=NAMESPACE, bucket_name=BUCKET,\n",
    "object_names=FILE_NAMES)\n",
    "INPUT_LOCATION = oci.ai_speech.models.ObjectListInlineInputLocation(\n",
    "    location_type=\"OBJECT_LIST_INLINE_INPUT_LOCATION\", object_locations=[OBJECT_LOCATION])\n",
    "OUTPUT_LOCATION = oci.ai_speech.models.OutputLocation(namespace_name=NAMESPACE, bucket_name=BUCKET,\n",
    "                                                             prefix=JOB_PREFIX)\n",
    "\n",
    "transcription_job_details = oci.ai_speech.models.CreateTranscriptionJobDetails(\n",
    "    display_name = DISPLAY_NAME,\n",
    "    compartment_id = COMPARTMENT_ID,\n",
    "    description = DESCRIPTION,\n",
    "    model_details = MODE_DETAILS,\n",
    "    input_location = INPUT_LOCATION,\n",
    "    output_location = OUTPUT_LOCATION\n",
    ")\n",
    "\n",
    "transcription_job = None\n",
    "print(\"*** CREATING TRANSCRIPTION JOB ***\")\n",
    "\n",
    "try:\n",
    "    transcription_job = ai_client.create_transcription_job(\n",
    "        create_transcription_job_details = transcription_job_details\n",
    "    )\n",
    "except Exception as e:\n",
    "    print(e)\n",
    "else:\n",
    "    print(transcription_job.data)"
   ]
  }
 ],
 "metadata": {
  "kernelspec": {
   "display_name": "Python 3.6.8 64-bit",
   "language": "python",
   "name": "python3"
  },
  "language_info": {
   "codemirror_mode": {
    "name": "ipython",
    "version": 3
   },
   "file_extension": ".py",
   "mimetype": "text/x-python",
   "name": "python",
   "nbconvert_exporter": "python",
   "pygments_lexer": "ipython3",
   "version": "3.6.8"
  },
  "orig_nbformat": 4,
  "vscode": {
   "interpreter": {
    "hash": "916dbcbb3f70747c44a77c7bcd40155683ae19c65e1c03b4aa3499c5328201f1"
   }
  }
 },
 "nbformat": 4,
 "nbformat_minor": 2
}
