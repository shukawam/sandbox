{
 "cells": [
  {
   "cell_type": "markdown",
   "metadata": {},
   "source": [
    "# Oracle LiveLabs - Forecasting service\n",
    "\n",
    "[Oracle LiveLabs - Forecasting Service](https://apexapps.oracle.com/pls/apex/dbpm/r/livelabs/workshop-attendee-2?p210_workshop_id=927&p210_type=2&session=107363063846819)"
   ]
  },
  {
   "cell_type": "code",
   "execution_count": null,
   "metadata": {},
   "outputs": [],
   "source": [
    "import pandas as pd\n",
    "import requests\n",
    "import json\n",
    "import ast\n",
    "import matplotlib.pyplot as plt\n",
    "import re\n",
    "import os\n",
    "import simplejson\n",
    "\n",
    "import oci\n",
    "\n",
    "# you can also use resource principal.\n",
    "signer = oci.auth.signers.InstancePrincipalsSecurityTokenSigner()\n",
    "signer"
   ]
  },
  {
   "cell_type": "markdown",
   "metadata": {},
   "source": [
    "## download sample data\n",
    "\n",
    "```bash\n",
    "# primary data\n",
    "wget https://oracle.github.io/learning-library/oci-library/oci-hol/oci-artificial-intelligence/forecasting-service/item-4-forecasting-understand-data/files/favorita-13-beverages-primary.csv\n",
    "\n",
    "# additional data\n",
    "wget https://oracle.github.io/learning-library/oci-library/oci-hol/oci-artificial-intelligence/forecasting-service/item-4-forecasting-understand-data/files/favorita-13-beverages-add.csv\n",
    "```"
   ]
  },
  {
   "cell_type": "code",
   "execution_count": null,
   "metadata": {},
   "outputs": [],
   "source": [
    "# inline data preparation\n",
    "\n",
    "# load data\n",
    "df_primary = pd.read_csv('sample-data/favorita-13-beverages-primary.csv')\n",
    "df_additional = pd.read_csv('sample-data/favorita-13-beverages-add.csv')\n",
    "\n",
    "# modify data format to match forecasting service\n",
    "df_primary['date'] = pd.to_datetime(df_primary['date'], format='%d/%m/%y').apply(lambda date: str(date))\n",
    "df_additional['date'] = pd.to_datetime(df_additional['date'], format='%d/%m/%y').apply(lambda date: str(date))\n",
    "\n",
    "# setting variables to create forecasting service\n",
    "col_order_primary = ['date', 'sales', 'item_id']\n",
    "col_order_additional = ['date', 'onpromotion', 'item_id']\n",
    "\n",
    "primary_load = df_primary[col_order_primary].values.transpose().tolist()\n",
    "additional_load = df_additional[col_order_additional].values.transpose().tolist()\n",
    "\n",
    "primary_load\n",
    "additional_load"
   ]
  },
  {
   "cell_type": "code",
   "execution_count": null,
   "metadata": {},
   "outputs": [],
   "source": [
    "create_project_url = \"https://forecasting.aiservice.us-phoenix-1.oci.oraclecloud.com/20220101/projects\"\n",
    "\n",
    "create_project_payload = json.dumps({\n",
    "  \"displayName\": \"Forecast via API\",\n",
    "  \"compartmentId\": os.environ['C'],\n",
    "  \"description\": \"Forecasting service API Demo\",\n",
    "  \"freeformTags\": None,\n",
    "  \"definedTags\": None,\n",
    "  \"systemTags\": None\n",
    "})\n",
    "create_project_headers = {\n",
    "  'Content-Type': 'application/json'\n",
    "}\n",
    "\n",
    "response = requests.request(\"POST\", create_project_url, headers=create_project_headers, data=create_project_payload, auth=signer)"
   ]
  },
  {
   "cell_type": "code",
   "execution_count": null,
   "metadata": {},
   "outputs": [],
   "source": [
    "create_project_response = json.loads(response.text)\n",
    "create_project_response\n",
    "\n",
    "# store the compartment_id and project_id\n",
    "compartment_id=os.environ.get('C')\n",
    "project_id=create_project_response['id']\n",
    "\n",
    "print(compartment_id)\n",
    "print(project_id)"
   ]
  },
  {
   "cell_type": "code",
   "execution_count": null,
   "metadata": {},
   "outputs": [],
   "source": [
    "date_col_primary = 'date'\n",
    "date_col_add = 'date'\n",
    "target_col = 'sales'\n",
    "id_col_primary = 'item_id'\n",
    "id_col_add = 'item_id'\n",
    "data_frequency = 'DAY'\n",
    "forecast_frequency = 'DAY'\n",
    "forecast_horizon = 14"
   ]
  },
  {
   "cell_type": "code",
   "execution_count": null,
   "metadata": {},
   "outputs": [],
   "source": [
    "%%time\n",
    "\n",
    "forecast_base_url = \"https://forecasting.aiservice.us-phoenix-1.oci.oraclecloud.com/20220101/forecasts\"\n",
    "\n",
    "create_forecast_payload = json.dumps({\n",
    "  \"compartmentId\": compartment_id,\n",
    "  \"displayName\": \"Forecast Model\",\n",
    "  \"description\": \"Training Forecast Model\",\n",
    "  \"projectId\": project_id,\n",
    "  \"forecastCreationDetails\": {\n",
    "    \"targetVariables\": [\n",
    "      target_col\n",
    "    ],\n",
    "    \"modelTrainingDetails\": {\n",
    "      \"modelType\": \"UNIVARIATE\",\n",
    "      \"models\": [\n",
    "        \"SMA\",\n",
    "        \"DMA\",\n",
    "        \"HWSA\",\n",
    "        \"HWSM\",\n",
    "        \"SES\",\n",
    "        \"DES\",\n",
    "        \"SA\",\n",
    "        \"SM\",\n",
    "        \"UAM\",\n",
    "        \"UHM\",\n",
    "        \"ARIMA\",\n",
    "        \"PROPHET\"\n",
    "      ]\n",
    "    },\n",
    "    \"forecastHorizon\": forecast_horizon,\n",
    "    \"confidenceInterval\": \"CI_5_95\",\n",
    "    \"errorMeasure\": \"RMSE\",\n",
    "    \"forecastTechnique\": \"ROCV\",\n",
    "    \"forecastFrequency\": forecast_frequency,\n",
    "    \"isForecastExplanationRequired\": True,\n",
    "    \"dataSourceDetails\": {\n",
    "      \"type\": \"INLINE\",\n",
    "      \"dataSources\": {\n",
    "        \"primaryDataSource\": {\n",
    "          \"isDataGrouped\": True,\n",
    "          \"columnData\": primary_load,\n",
    "          \"columnSchema\": [\n",
    "            {\n",
    "              \"columnName\": date_col_primary,\n",
    "              \"dataType\": \"DATE\"\n",
    "            },\n",
    "            {\n",
    "              \"columnName\": target_col,\n",
    "              \"dataType\": \"INT\"\n",
    "            },\n",
    "            {\n",
    "              \"columnName\": id_col_primary,\n",
    "              \"dataType\": \"STRING\"\n",
    "            },\n",
    "          ],\n",
    "          \"tsColName\": date_col_primary,\n",
    "          \"tsColFormat\": \"yyyy-MM-dd HH:mm:ss\",\n",
    "          \"dataFrequency\": data_frequency\n",
    "        },\n",
    "        \"additionalDataSource\": {\n",
    "          \"isDataGrouped\": True,\n",
    "          \"columnData\": additional_load,\n",
    "          \"columnSchema\": [\n",
    "            {\n",
    "              \"columnName\": date_col_add,\n",
    "              \"dataType\": \"DATE\"\n",
    "            },\n",
    "            {\n",
    "              \"columnName\": \"onpromotion\",\n",
    "              \"dataType\": \"INT\"\n",
    "            },\n",
    "            {\n",
    "              \"columnName\": id_col_add,\n",
    "              \"dataType\": \"STRING\"\n",
    "            },\n",
    "          ],\n",
    "          \"tsColName\": date_col_add,\n",
    "          \"tsColFormat\": \"yyyy-MM-dd HH:mm:ss\",\n",
    "          \"dataFrequency\": data_frequency\n",
    "        }\n",
    "      }\n",
    "    }\n",
    "  }\n",
    "})\n",
    "\n",
    "# print(forecast_payload)\n",
    "\n",
    "create_forecast_headers = {\n",
    "  \"Content-Type\": \"application/json\"\n",
    "}\n",
    "\n",
    "create_forecast_response = requests.request(\"POST\", forecast_base_url, headers=create_forecast_headers, data=create_forecast_payload, auth=signer)"
   ]
  },
  {
   "cell_type": "code",
   "execution_count": null,
   "metadata": {},
   "outputs": [],
   "source": [
    "create_forecast_response_json = json.loads(create_forecast_response.text)\n",
    "create_forecast_response_json"
   ]
  },
  {
   "cell_type": "code",
   "execution_count": null,
   "metadata": {},
   "outputs": [],
   "source": [
    "create_forecast_id = create_forecast_response_json['id']\n",
    "create_forecast_id"
   ]
  },
  {
   "cell_type": "code",
   "execution_count": null,
   "metadata": {},
   "outputs": [],
   "source": [
    "get_forecast_url = \"https://forecasting.aiservice.us-phoenix-1.oci.oraclecloud.com/20220101/forecasts/{}\".format(create_forecast_id)\n",
    "print(get_forecast_url)\n",
    "\n",
    "forecast_get_payload = {}\n",
    "forecast_get_headers = {}\n",
    "\n",
    "get_forecast_response = requests.request(\"GET\", get_forecast_url, headers=forecast_get_headers,data = forecast_get_payload, auth=signer)\n",
    "\n",
    "get_forecast_response_json = json.loads(get_forecast_response.text)\n",
    "get_forecast_response_json"
   ]
  },
  {
   "cell_type": "code",
   "execution_count": null,
   "metadata": {},
   "outputs": [],
   "source": [
    "df_forecasts = pd.DataFrame({'forecast_dates':[],'upper':[],'lower':[],'forecast':[], 'series_id':[]})\n",
    "for i in range(len(get_forecast_response_json['forecastResult']['forecast'])):\n",
    "\n",
    "    group = get_forecast_response_json['forecastResult']['forecast'][i]['targetColumn']\n",
    "    point_forecast = get_forecast_response_json['forecastResult']['forecast'][i]['forecast']\n",
    "    pred_intervals = pd.DataFrame(get_forecast_response_json['forecastResult']\n",
    "                              ['forecast'][i]['predictionInterval'],dtype=float)\n",
    "    out = pred_intervals\n",
    "    out['forecast'] = point_forecast\n",
    "    forecast_dates = pd.DataFrame({'forecast_dates':get_forecast_response_json['forecastResult']['forecast'][i]['dates']})\n",
    "    forecasts = pd.concat([forecast_dates,out],axis=1)\n",
    "    forecasts['series_id'] = group\n",
    "    df_forecasts = df_forecasts.append(forecasts, ignore_index = False)\n",
    "file_name = 'forecast.csv'\n",
    "df_forecasts.to_csv(file_name, index = None)"
   ]
  },
  {
   "cell_type": "code",
   "execution_count": null,
   "metadata": {},
   "outputs": [],
   "source": [
    "get_forecast_response_json['forecastResult']['metrics']['targetColumns']"
   ]
  },
  {
   "cell_type": "code",
   "execution_count": null,
   "metadata": {},
   "outputs": [],
   "source": [
    "# get_forecast_description_url = \"https://forecasting.aiservice.us-phoenix-1.oci.oraclecloud.com/20220101/forecasts/{}/explanations/\".format(create_forecast_id)\n",
    "get_forecast_description_url = \"https://forecasting.aiservice.us-phoenix-1.oci.oraclecloud.com/20220101/forecasts/ocid1.aiforecast.oc1.phx.amaaaaaassl65iqaq5ohlekyqy5g6yaoiarth4nllx2xlysblafyumhyvzyq/explanations/\"\n",
    "print(get_forecast_description_url)\n",
    "\n",
    "get_forecast_description_payload = {}\n",
    "get_forecast_description_headers = {}\n",
    "\n",
    "get_forecast_description_response = requests.request(\"GET\", get_forecast_description_url, headers=get_forecast_description_headers, data=get_forecast_description_payload, auth=signer)\n",
    "get_forecasting_description_json = json.loads(get_forecast_description_response.text)\n",
    "get_forecasting_description_json"
   ]
  },
  {
   "cell_type": "code",
   "execution_count": null,
   "metadata": {},
   "outputs": [],
   "source": [
    "%pip install plotly"
   ]
  },
  {
   "cell_type": "code",
   "execution_count": null,
   "metadata": {},
   "outputs": [],
   "source": [
    "import plotly.express as px\n",
    "import plotly.graph_objects as go\n",
    "\n",
    "df_description = pd.read_json('sample-data/Forecast_Explanation_ocid1.aiforecast.oc1.phx.amaaaaaassl65iqaq5ohlekyqy5g6yaoiarth4nllx2xlysblafyumhyvzyq.json')\n",
    "global_feature_importance = df_description['explanations'][0]['global_feature_importance']['influencing_features']\n",
    "# global_feature_importance = get_forecasting_description_json['explanations'][0]['globalFeatureImportance']['influencingFeatures']\n",
    "df_imps = pd.DataFrame()\n",
    "df_imps['Feature_Importance'] = global_feature_importance.values()\n",
    "\n",
    "feature_names = global_feature_importance.keys()\n",
    "df_imps['Features'] = feature_names\n",
    "\n",
    "title = \"Global Feature Importance \"\n",
    "fig = px.bar(df_imps, y=\"Features\", x='Feature_Importance', \n",
    "            title=title).update_yaxes(categoryorder = \"total ascending\")\n",
    "fig.update_traces(marker_color='lightsalmon')\n",
    "fig.show()\n"
   ]
  },
  {
   "cell_type": "code",
   "execution_count": null,
   "metadata": {},
   "outputs": [],
   "source": [
    "%pip install numpy"
   ]
  },
  {
   "cell_type": "code",
   "execution_count": null,
   "metadata": {},
   "outputs": [],
   "source": [
    "import numpy as np\n",
    "\n",
    "time_step=1\n",
    "\n",
    "df_local_description = pd.read_json('./sample-data/Forecast_Explanation_ocid1.aiforecast.oc1.phx.amaaaaaassl65iqaq5ohlekyqy5g6yaoiarth4nllx2xlysblafyumhyvzyq.json')\n",
    "local_feature_importance = df_local_description['explanations'][0]['local_feature_importance']['influencing_features'][time_step]\n",
    "local_feature_importance\n",
    "df_imps_local = pd.DataFrame()\n",
    "df_imps_local['Feature_Importance'] = local_feature_importance.values()\n",
    "\n",
    "feature_names = local_feature_importance.keys()\n",
    "df_imps_local['Features'] = feature_names\n",
    "\n",
    "title = \"Local Feature Importance for Timestep \" + str(time_step)\n",
    "fig = px.bar(df_imps_local, y=\"Features\", x='Feature_Importance', title=title)\n",
    "fig.update_traces(marker_color='lightsalmon')\n",
    "fig.show()"
   ]
  }
 ],
 "metadata": {
  "interpreter": {
   "hash": "916dbcbb3f70747c44a77c7bcd40155683ae19c65e1c03b4aa3499c5328201f1"
  },
  "kernelspec": {
   "display_name": "Python 3.6.8 64-bit",
   "language": "python",
   "name": "python3"
  },
  "language_info": {
   "codemirror_mode": {
    "name": "ipython",
    "version": 3
   },
   "file_extension": ".py",
   "mimetype": "text/x-python",
   "name": "python",
   "nbconvert_exporter": "python",
   "pygments_lexer": "ipython3",
   "version": "3.6.8"
  },
  "orig_nbformat": 4
 },
 "nbformat": 4,
 "nbformat_minor": 2
}
