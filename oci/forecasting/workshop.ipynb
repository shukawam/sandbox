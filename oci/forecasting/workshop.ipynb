{
 "cells": [
  {
   "cell_type": "markdown",
   "metadata": {},
   "source": [
    "# OCI Forecasting Service Workshop"
   ]
  },
  {
   "cell_type": "code",
   "execution_count": 1,
   "metadata": {},
   "outputs": [
    {
     "name": "stdout",
     "output_type": "stream",
     "text": [
      "--2022-03-20 06:28:30--  https://oracle.github.io/learning-library/oci-library/oci-hol/oci-artificial-intelligence/forecasting-service/item-4-forecasting-understand-data/files/favorita-13-beverages-primary.csv\n",
      "Resolving oracle.github.io (oracle.github.io)... 185.199.111.153, 185.199.108.153, 185.199.109.153, ...\n",
      "Connecting to oracle.github.io (oracle.github.io)|185.199.111.153|:443... connected.\n",
      "HTTP request sent, awaiting response... 200 OK\n",
      "Length: 44537 (43K) [text/csv]\n",
      "Saving to: ‘./sample-data/favorita-13-beverages-primary.csv.1’\n",
      "\n",
      "100%[======================================>] 44,537      --.-K/s   in 0.1s    \n",
      "\n",
      "2022-03-20 06:28:32 (342 KB/s) - ‘./sample-data/favorita-13-beverages-primary.csv.1’ saved [44537/44537]\n",
      "\n",
      "--2022-03-20 06:28:32--  https://oracle.github.io/learning-library/oci-library/oci-hol/oci-artificial-intelligence/forecasting-service/item-4-forecasting-understand-data/files/favorita-13-beverages-add.csv\n",
      "Resolving oracle.github.io (oracle.github.io)... 185.199.108.153, 185.199.109.153, 185.199.110.153, ...\n",
      "Connecting to oracle.github.io (oracle.github.io)|185.199.108.153|:443... connected.\n",
      "HTTP request sent, awaiting response... 200 OK\n",
      "Length: 42663 (42K) [text/csv]\n",
      "Saving to: ‘./sample-data/favorita-13-beverages-add.csv.1’\n",
      "\n",
      "100%[======================================>] 42,663      --.-K/s   in 0.03s   \n",
      "\n",
      "2022-03-20 06:28:33 (1.48 MB/s) - ‘./sample-data/favorita-13-beverages-add.csv.1’ saved [42663/42663]\n",
      "\n"
     ]
    }
   ],
   "source": [
    "# Download sample data\n",
    "\n",
    "## get primary data\n",
    "!wget https://oracle.github.io/learning-library/oci-library/oci-hol/oci-artificial-intelligence/forecasting-service/item-4-forecasting-understand-data/files/favorita-13-beverages-primary.csv -P ./sample-data\n",
    "\n",
    "## get additional data\n",
    "!wget https://oracle.github.io/learning-library/oci-library/oci-hol/oci-artificial-intelligence/forecasting-service/item-4-forecasting-understand-data/files/favorita-13-beverages-add.csv -P ./sample-data"
   ]
  },
  {
   "cell_type": "code",
   "execution_count": 5,
   "metadata": {},
   "outputs": [],
   "source": [
    "# Inline data preparation\n",
    "\n",
    "import pandas as pd\n",
    "import requests\n",
    "import json\n",
    "import ast\n",
    "import matplotlib.pyplot as plt\n",
    "import re\n",
    "import os\n",
    "import simplejson"
   ]
  },
  {
   "cell_type": "code",
   "execution_count": 6,
   "metadata": {},
   "outputs": [
    {
     "name": "stdout",
     "output_type": "stream",
     "text": [
      "*** primary data ***\n",
      "           item_id      date  sales\n",
      "0     13_BEVERAGES  01/01/13      0\n",
      "1     13_BEVERAGES  02/01/13    767\n",
      "2     13_BEVERAGES  03/01/13    987\n",
      "3     13_BEVERAGES  04/01/13    652\n",
      "4     13_BEVERAGES  05/01/13   1095\n",
      "...            ...       ...    ...\n",
      "1665  13_BEVERAGES  28/07/17   1721\n",
      "1666  13_BEVERAGES  29/07/17   2160\n",
      "1667  13_BEVERAGES  30/07/17   1794\n",
      "1668  13_BEVERAGES  31/07/17   2264\n",
      "1669  13_BEVERAGES  01/08/17   1529\n",
      "\n",
      "[1670 rows x 3 columns]\n",
      "*** additional data ***\n",
      "           item_id      date  onpromotion\n",
      "0     13_BEVERAGES  01/01/13            0\n",
      "1     13_BEVERAGES  02/01/13            0\n",
      "2     13_BEVERAGES  03/01/13            0\n",
      "3     13_BEVERAGES  04/01/13            0\n",
      "4     13_BEVERAGES  05/01/13            0\n",
      "...            ...       ...          ...\n",
      "1679  13_BEVERAGES  11/08/17          218\n",
      "1680  13_BEVERAGES  12/08/17          249\n",
      "1681  13_BEVERAGES  13/08/17          226\n",
      "1682  13_BEVERAGES  14/08/17          236\n",
      "1683  13_BEVERAGES  15/08/17          225\n",
      "\n",
      "[1684 rows x 3 columns]\n"
     ]
    }
   ],
   "source": [
    "# load data\n",
    "\n",
    "df_primary = pd.read_csv('./sample-data/favorita-13-beverages-primary.csv')\n",
    "df_add = pd.read_csv('./sample-data/favorita-13-beverages-add.csv')\n",
    "\n",
    "# show data\n",
    "print('*** primary data ***')\n",
    "print(df_primary)\n",
    "\n",
    "print('*** additional data ***')\n",
    "print(df_add)"
   ]
  },
  {
   "cell_type": "code",
   "execution_count": 7,
   "metadata": {},
   "outputs": [
    {
     "name": "stdout",
     "output_type": "stream",
     "text": [
      "*** primary data ***\n",
      "           item_id                 date  sales\n",
      "0     13_BEVERAGES  2013-01-01 00:00:00      0\n",
      "1     13_BEVERAGES  2013-01-02 00:00:00    767\n",
      "2     13_BEVERAGES  2013-01-03 00:00:00    987\n",
      "3     13_BEVERAGES  2013-01-04 00:00:00    652\n",
      "4     13_BEVERAGES  2013-01-05 00:00:00   1095\n",
      "...            ...                  ...    ...\n",
      "1665  13_BEVERAGES  2017-07-28 00:00:00   1721\n",
      "1666  13_BEVERAGES  2017-07-29 00:00:00   2160\n",
      "1667  13_BEVERAGES  2017-07-30 00:00:00   1794\n",
      "1668  13_BEVERAGES  2017-07-31 00:00:00   2264\n",
      "1669  13_BEVERAGES  2017-08-01 00:00:00   1529\n",
      "\n",
      "[1670 rows x 3 columns]\n",
      "*** additional data ***\n",
      "           item_id                 date  onpromotion\n",
      "0     13_BEVERAGES  2013-01-01 00:00:00            0\n",
      "1     13_BEVERAGES  2013-01-02 00:00:00            0\n",
      "2     13_BEVERAGES  2013-01-03 00:00:00            0\n",
      "3     13_BEVERAGES  2013-01-04 00:00:00            0\n",
      "4     13_BEVERAGES  2013-01-05 00:00:00            0\n",
      "...            ...                  ...          ...\n",
      "1679  13_BEVERAGES  2017-08-11 00:00:00          218\n",
      "1680  13_BEVERAGES  2017-08-12 00:00:00          249\n",
      "1681  13_BEVERAGES  2017-08-13 00:00:00          226\n",
      "1682  13_BEVERAGES  2017-08-14 00:00:00          236\n",
      "1683  13_BEVERAGES  2017-08-15 00:00:00          225\n",
      "\n",
      "[1684 rows x 3 columns]\n"
     ]
    }
   ],
   "source": [
    "# modify data format of primary data\n",
    "df_primary['date'] = pd.to_datetime(df_primary['date'], format='%d/%m/%y').apply(lambda date: str(date))\n",
    "\n",
    "# modify data format of additional data\n",
    "df_add['date'] = pd.to_datetime(df_add['date'], format='%d/%m/%y').apply(lambda date: str(date))\n",
    "\n",
    "# show data\n",
    "print('*** primary data ***')\n",
    "print(df_primary)\n",
    "\n",
    "print('*** additional data ***')\n",
    "print(df_add)"
   ]
  },
  {
   "cell_type": "code",
   "execution_count": null,
   "metadata": {},
   "outputs": [],
   "source": [
    "# Setting variables to create forecast\n",
    "primary_order = ['date', 'sales', 'item_id']\n",
    "primary_load = df_primary[primary_order].values.transpose().tolist()\n",
    "print(primary_load)\n",
    "\n",
    "additional_order = ['date', 'onpromotion', 'item_id']\n",
    "additional_load = df_add[additional_order].values.transpose().tolist()\n",
    "print(additional_load)"
   ]
  },
  {
   "cell_type": "code",
   "execution_count": 9,
   "metadata": {},
   "outputs": [],
   "source": [
    "# Set API authentication\n",
    "import oci\n",
    "\n",
    "auth = oci.auth.signers.InstancePrincipalsSecurityTokenSigner()"
   ]
  },
  {
   "cell_type": "code",
   "execution_count": 19,
   "metadata": {},
   "outputs": [
    {
     "name": "stdout",
     "output_type": "stream",
     "text": [
      "compartment_id: ocid1.compartment.oc1..aaaaaaaanjtbllhqxcg67dq7em3vto2mvsbc6pbgk4pw6cx37afzk3tngmoa\n"
     ]
    }
   ],
   "source": [
    "base_url = 'https://forecasting.aiservice.us-phoenix-1.oci.oraclecloud.com/20220101'\n",
    "compartment_id = os.environ.get('C')\n",
    "print(f'compartment_id:', compartment_id)\n",
    "\n",
    "create_project_url = base_url + '/projects'\n",
    "\n",
    "create_project_payload = json.dumps({\n",
    "    'displayName': 'Forecast Demo',\n",
    "    'compartmentId': compartment_id,\n",
    "    'description': 'Forecasting service demo',\n",
    "    'freeformTags': None,\n",
    "    'definedTags': None,\n",
    "    'systemTags': None,\n",
    "})\n",
    "\n",
    "create_project_header = {\n",
    "    'Content-Type': 'application/json'\n",
    "}\n",
    "\n",
    "# Create project request\n",
    "create_project_response = requests.request('POST', create_project_url, headers = create_project_header, data = create_project_payload ,auth = auth)"
   ]
  },
  {
   "cell_type": "code",
   "execution_count": 20,
   "metadata": {},
   "outputs": [
    {
     "name": "stdout",
     "output_type": "stream",
     "text": [
      "{'id': 'ocid1.aiforecastproject.oc1.phx.amaaaaaassl65iqaf7ytsgxfiy4dj7u4qodfv76xth6v522vtezjnoktiopa', 'displayName': 'aiforecastproject20220320064320', 'compartmentId': 'ocid1.compartment.oc1..aaaaaaaanjtbllhqxcg67dq7em3vto2mvsbc6pbgk4pw6cx37afzk3tngmoa', 'description': 'Forecasting service demo', 'timeCreated': '2022-03-20T06:43:20.942Z', 'timeUpdated': '2022-03-20T06:43:20.942Z', 'lifecycleState': 'ACTIVE', 'freeformTags': {}, 'definedTags': {}, 'systemTags': {}}\n"
     ]
    }
   ],
   "source": [
    "create_project_response_json = json.loads(create_project_response.text)\n",
    "print(create_project_response_json)"
   ]
  },
  {
   "cell_type": "code",
   "execution_count": 21,
   "metadata": {},
   "outputs": [
    {
     "data": {
      "text/plain": [
       "'ocid1.aiforecastproject.oc1.phx.amaaaaaassl65iqaf7ytsgxfiy4dj7u4qodfv76xth6v522vtezjnoktiopa'"
      ]
     },
     "execution_count": 21,
     "metadata": {},
     "output_type": "execute_result"
    }
   ],
   "source": [
    "project_id = create_project_response_json['id']\n",
    "project_id"
   ]
  },
  {
   "cell_type": "code",
   "execution_count": 24,
   "metadata": {},
   "outputs": [],
   "source": [
    "date_col_primary = 'date'\n",
    "date_col_add = 'date'\n",
    "target_col = 'sales'\n",
    "id_col_primary = 'item_id'\n",
    "id_col_add = 'item_id'\n",
    "data_frequency = 'DAY'\n",
    "forecast_frequency = 'DAY'\n",
    "forecast_horizon  = 7"
   ]
  },
  {
   "cell_type": "code",
   "execution_count": 30,
   "metadata": {},
   "outputs": [
    {
     "name": "stdout",
     "output_type": "stream",
     "text": [
      "CPU times: user 20.2 ms, sys: 0 ns, total: 20.2 ms\n",
      "Wall time: 1.01 s\n"
     ]
    },
    {
     "data": {
      "text/plain": [
       "<Response [500]>"
      ]
     },
     "execution_count": 30,
     "metadata": {},
     "output_type": "execute_result"
    }
   ],
   "source": [
    "%%time\n",
    "\n",
    "create_forecast_url = base_url + '/forecasts'\n",
    "create_forecast_url\n",
    "\n",
    "create_forecast_payload = json.dumps({\n",
    "  \"compartmentId\": compartment_id,\n",
    "  \"displayName\": \"Forecast Model\",\n",
    "  \"description\": \"Training Forecast Model\",\n",
    "  \"projectId\": project_id,\n",
    "  \"forecastCreationDetails\": {\n",
    "    \"targetVariables\": [\n",
    "      target_col\n",
    "    ],\n",
    "    \"modelTrainingDetails\": {\n",
    "      \"modelType\": \"UNIVARIATE\",\n",
    "      \"models\": [\n",
    "        \"SMA\",\n",
    "        \"DMA\",\n",
    "        \"HWSA\",\n",
    "        \"HWSM\",\n",
    "        \"SES\",\n",
    "        \"DES\",\n",
    "        \"SA\",\n",
    "        \"SM\",\n",
    "        \"UAM\",\n",
    "        \"UHM\",\n",
    "        \"ARIMA\",\n",
    "        \"PROPHET\"\n",
    "      ]\n",
    "    },\n",
    "    \"forecastHorizon\": forecast_horizon,\n",
    "    \"confidenceInterval\": \"CI_5_95\",\n",
    "    \"errorMeasure\": \"RMSE\",\n",
    "    \"forecastTechnique\": \"ROCV\",\n",
    "    \"forecastFrequency\": forecast_frequency,\n",
    "    \"isForecastExplanationRequired\": True,\n",
    "    \"dataSourceDetails\": {\n",
    "      \"type\": \"INLINE\",\n",
    "      \"dataSources\": {\n",
    "        \"primaryDataSource\": {\n",
    "          \"isDataGrouped\": True,\n",
    "          \"columnData\": primary_load,\n",
    "          \"columnSchema\": [\n",
    "            {\n",
    "              \"columnName\": date_col_primary,\n",
    "              \"dataType\": \"DATE\"\n",
    "            },\n",
    "            {\n",
    "              \"columnName\": target_col,\n",
    "              \"dataType\": \"INT\"\n",
    "            },\n",
    "            {\n",
    "              \"columnName\": id_col_primary,\n",
    "              \"dataType\": \"STRING\"\n",
    "            },\n",
    "          ],\n",
    "          \"tsColName\": date_col_primary,\n",
    "          \"tsColFormat\": \"yyyy-MM-dd HH:mm:ss\",\n",
    "          \"dataFrequency\": data_frequency\n",
    "        },\n",
    "        \"additionalDataSource\": {\n",
    "          \"isDataGrouped\": True,\n",
    "          \"columnData\": additional_load,\n",
    "          \"columnSchema\": [\n",
    "            {\n",
    "              \"columnName\": date_col_add,\n",
    "              \"dataType\": \"DATE\"\n",
    "            },\n",
    "            {\n",
    "              \"columnName\": \"onpromotion\",\n",
    "              \"dataType\": \"INT\"\n",
    "            },\n",
    "            {\n",
    "              \"columnName\": id_col_add,\n",
    "              \"dataType\": \"STRING\"\n",
    "            },\n",
    "          ],\n",
    "          \"tsColName\": date_col_add,\n",
    "          \"tsColFormat\": \"yyyy-MM-dd HH:mm:ss\",\n",
    "          \"dataFrequency\": data_frequency\n",
    "        }\n",
    "      }\n",
    "    }\n",
    "  }\n",
    "})\n",
    "\n",
    "create_forecast_headers = {\n",
    "    'Content-Type': 'application/json'\n",
    "}\n",
    "\n",
    "create_forecast_response = requests.request('POST', create_forecast_url, headers = create_forecast_headers, data = create_forecast_payload, auth = auth)\n",
    "create_forecast_response"
   ]
  },
  {
   "cell_type": "code",
   "execution_count": 26,
   "metadata": {},
   "outputs": [
    {
     "ename": "TypeError",
     "evalue": "the JSON object must be str, bytes or bytearray, not 'Response'",
     "output_type": "error",
     "traceback": [
      "\u001b[0;31m---------------------------------------------------------------------------\u001b[0m",
      "\u001b[0;31mTypeError\u001b[0m                                 Traceback (most recent call last)",
      "\u001b[0;32m<ipython-input-26-3644fae3a02d>\u001b[0m in \u001b[0;36m<module>\u001b[0;34m\u001b[0m\n\u001b[0;32m----> 1\u001b[0;31m \u001b[0mcreate_forecast_response_json\u001b[0m \u001b[0;34m=\u001b[0m \u001b[0mjson\u001b[0m\u001b[0;34m.\u001b[0m\u001b[0mloads\u001b[0m\u001b[0;34m(\u001b[0m\u001b[0mcreate_forecast_response\u001b[0m\u001b[0;34m)\u001b[0m\u001b[0;34m\u001b[0m\u001b[0;34m\u001b[0m\u001b[0m\n\u001b[0m\u001b[1;32m      2\u001b[0m \u001b[0mcreate_forecast_response_json\u001b[0m\u001b[0;34m\u001b[0m\u001b[0;34m\u001b[0m\u001b[0m\n",
      "\u001b[0;32m/usr/lib64/python3.6/json/__init__.py\u001b[0m in \u001b[0;36mloads\u001b[0;34m(s, encoding, cls, object_hook, parse_float, parse_int, parse_constant, object_pairs_hook, **kw)\u001b[0m\n\u001b[1;32m    346\u001b[0m         \u001b[0;32mif\u001b[0m \u001b[0;32mnot\u001b[0m \u001b[0misinstance\u001b[0m\u001b[0;34m(\u001b[0m\u001b[0ms\u001b[0m\u001b[0;34m,\u001b[0m \u001b[0;34m(\u001b[0m\u001b[0mbytes\u001b[0m\u001b[0;34m,\u001b[0m \u001b[0mbytearray\u001b[0m\u001b[0;34m)\u001b[0m\u001b[0;34m)\u001b[0m\u001b[0;34m:\u001b[0m\u001b[0;34m\u001b[0m\u001b[0;34m\u001b[0m\u001b[0m\n\u001b[1;32m    347\u001b[0m             raise TypeError('the JSON object must be str, bytes or bytearray, '\n\u001b[0;32m--> 348\u001b[0;31m                             'not {!r}'.format(s.__class__.__name__))\n\u001b[0m\u001b[1;32m    349\u001b[0m         \u001b[0ms\u001b[0m \u001b[0;34m=\u001b[0m \u001b[0ms\u001b[0m\u001b[0;34m.\u001b[0m\u001b[0mdecode\u001b[0m\u001b[0;34m(\u001b[0m\u001b[0mdetect_encoding\u001b[0m\u001b[0;34m(\u001b[0m\u001b[0ms\u001b[0m\u001b[0;34m)\u001b[0m\u001b[0;34m,\u001b[0m \u001b[0;34m'surrogatepass'\u001b[0m\u001b[0;34m)\u001b[0m\u001b[0;34m\u001b[0m\u001b[0;34m\u001b[0m\u001b[0m\n\u001b[1;32m    350\u001b[0m \u001b[0;34m\u001b[0m\u001b[0m\n",
      "\u001b[0;31mTypeError\u001b[0m: the JSON object must be str, bytes or bytearray, not 'Response'"
     ]
    }
   ],
   "source": [
    "create_forecast_response_json = json.loads(create_forecast_response)\n",
    "create_forecast_response_json"
   ]
  }
 ],
 "metadata": {
  "interpreter": {
   "hash": "916dbcbb3f70747c44a77c7bcd40155683ae19c65e1c03b4aa3499c5328201f1"
  },
  "kernelspec": {
   "display_name": "Python 3.6.8 64-bit",
   "language": "python",
   "name": "python3"
  },
  "language_info": {
   "codemirror_mode": {
    "name": "ipython",
    "version": 3
   },
   "file_extension": ".py",
   "mimetype": "text/x-python",
   "name": "python",
   "nbconvert_exporter": "python",
   "pygments_lexer": "ipython3",
   "version": "3.6.8"
  },
  "orig_nbformat": 4
 },
 "nbformat": 4,
 "nbformat_minor": 2
}
