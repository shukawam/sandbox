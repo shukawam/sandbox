{
 "cells": [
  {
   "cell_type": "code",
   "execution_count": 2,
   "metadata": {},
   "outputs": [],
   "source": [
    "import oci\n",
    "import os"
   ]
  },
  {
   "cell_type": "code",
   "execution_count": 3,
   "metadata": {},
   "outputs": [],
   "source": [
    "config = oci.config.from_file()\n",
    "ai_vision_client = oci.ai_vision.AIServiceVisionClient(config)"
   ]
  },
  {
   "cell_type": "code",
   "execution_count": null,
   "metadata": {},
   "outputs": [],
   "source": [
    "analyze_image_response = ai_vision_client.analyze_image(\n",
    "    analyze_image_details=oci.ai_vision.models.AnalyzeImageDetails(\n",
    "        features=[\n",
    "            oci.ai_vision.models.ImageClassificationFeature(\n",
    "                feature_type=\"IMAGE_CLASSIFICATION\",\n",
    "            )\n",
    "        ],\n",
    "        image=oci.ai_vision.models.ObjectStorageImageDetails(\n",
    "            source=\"OBJECT_STORAGE\",\n",
    "            namespace_name=\"<object-storage-namespace>\",\n",
    "            bucket_name=\"vision-test\",\n",
    "            object_name=\"simple-test/image.jpg\"\n",
    "        ),\n",
    "        compartment_id=os.environ.get('C')\n",
    "    )\n",
    ")\n",
    "\n",
    "print(analyze_image_response.data)"
   ]
  },
  {
   "cell_type": "code",
   "execution_count": null,
   "metadata": {},
   "outputs": [],
   "source": [
    "analyze_image_batch_response = ai_vision_client.create_image_job(\n",
    "    create_image_job_details=oci.ai_vision.models.CreateImageJobDetails(\n",
    "        features=[\n",
    "            oci.ai_vision.models.ImageClassificationFeature(\n",
    "                feature_type=\"IMAGE_CLASSIFICATION\",\n",
    "            )\n",
    "        ],\n",
    "        input_location=oci.ai_vision.models.ObjectListInlineInputLocation(\n",
    "            source_type=\"OBJECT_LIST_INLINE_INPUT_LOCATION\",\n",
    "            object_locations=[\n",
    "                oci.ai_vision.models.ObjectLocation(\n",
    "                    namespace_name=\"<object-storage-namespace>\",\n",
    "                    bucket_name=\"vision-test\",\n",
    "                    object_name=\"batch-test/image01.jpg\"\n",
    "                ),\n",
    "                oci.ai_vision.models.ObjectLocation(\n",
    "                    namespace_name=\"<object-storage-namespace>\",\n",
    "                    bucket_name=\"vision-test\",\n",
    "                    object_name=\"batch-test/image02.jpg\"\n",
    "                ),\n",
    "                oci.ai_vision.models.ObjectLocation(\n",
    "                    namespace_name=\"<object-storage-namespace>\",\n",
    "                    bucket_name=\"vision-test\",\n",
    "                    object_name=\"batch-test/image03.jpg\"\n",
    "                )\n",
    "            ]\n",
    "        ),\n",
    "        output_location=oci.ai_vision.models.OutputLocation(\n",
    "            namespace_name=\"<object-storage-namespace>\",\n",
    "            bucket_name=\"vision-test\",\n",
    "            prefix=\"batch-processing/\"\n",
    "        ),\n",
    "        compartment_id=os.environ.get('C'),\n",
    "        display_name=\"BatchProcessing\"\n",
    "    )\n",
    ")\n",
    "\n",
    "print(analyze_image_batch_response.data)"
   ]
  },
  {
   "cell_type": "code",
   "execution_count": null,
   "metadata": {},
   "outputs": [],
   "source": [
    "analyze_image_custom_response = ai_vision_client.analyze_image(\n",
    "    analyze_image_details=oci.ai_vision.models.AnalyzeImageDetails(\n",
    "        features=[\n",
    "            oci.ai_vision.models.ImageClassificationFeature(\n",
    "                feature_type=\"IMAGE_CLASSIFICATION\",\n",
    "                model_id='ocid1.aivisionmodel.oc1.ap-tokyo-1.amaaaaaassl65iqadxzi5yvbkos2f6dqgwi5zswuyod2jasw6ygxvqqhtapa'\n",
    "            )\n",
    "        ],\n",
    "        image=oci.ai_vision.models.ObjectStorageImageDetails(\n",
    "            source=\"OBJECT_STORAGE\",\n",
    "            namespace_name=\"<object-storage-namespace>\",\n",
    "            bucket_name=\"covid-19-test-dataset\",\n",
    "            object_name=\"Viral Pneumonia/0101.jpeg\"\n",
    "        ),\n",
    "        compartment_id=os.environ.get('C')\n",
    "    )\n",
    ")\n",
    "\n",
    "print(analyze_image_custom_response.data)"
   ]
  },
  {
   "cell_type": "code",
   "execution_count": null,
   "metadata": {},
   "outputs": [],
   "source": [
    "analyze_image_batch_custom_response = ai_vision_client.create_image_job(\n",
    "    create_image_job_details=oci.ai_vision.models.CreateImageJobDetails(\n",
    "        features=[\n",
    "            oci.ai_vision.models.ImageClassificationFeature(\n",
    "                feature_type=\"IMAGE_CLASSIFICATION\",\n",
    "                model_id='ocid1.aivisionmodel.oc1.ap-tokyo-1.amaaaaaassl65iqadxzi5yvbkos2f6dqgwi5zswuyod2jasw6ygxvqqhtapa'\n",
    "            )\n",
    "        ],\n",
    "        input_location=oci.ai_vision.models.ObjectListInlineInputLocation(\n",
    "            source_type=\"OBJECT_LIST_INLINE_INPUT_LOCATION\",\n",
    "            object_locations=[\n",
    "                oci.ai_vision.models.ObjectLocation(\n",
    "                    namespace_name=\"<object-storage-namespace>\",\n",
    "                    bucket_name=\"covid-19-test-dataset\",\n",
    "                    object_name=\"Covid/0100.jpeg\"\n",
    "                ),\n",
    "                oci.ai_vision.models.ObjectLocation(\n",
    "                    namespace_name=\"<object-storage-namespace>\",\n",
    "                    bucket_name=\"covid-19-test-dataset\",\n",
    "                    object_name=\"Normal/0101.jpeg\"\n",
    "                ),\n",
    "                oci.ai_vision.models.ObjectLocation(\n",
    "                    namespace_name=\"<object-storage-namespace>\",\n",
    "                    bucket_name=\"covid-19-test-dataset\",\n",
    "                    object_name=\"Viral Pneumonia/0101.jpeg\"\n",
    "                )\n",
    "            ]\n",
    "        ),\n",
    "        output_location=oci.ai_vision.models.OutputLocation(\n",
    "            namespace_name=\"<object-storage-namespace>\",\n",
    "            bucket_name=\"covid-19-test-dataset\",\n",
    "            prefix=\"custom-batch-processing/\"\n",
    "        ),\n",
    "        compartment_id=os.environ.get('C'),\n",
    "        display_name=\"BatchProcessing\"\n",
    "    )\n",
    ")\n",
    "\n",
    "print(analyze_image_batch_custom_response.data)"
   ]
  }
 ],
 "metadata": {
  "interpreter": {
   "hash": "916dbcbb3f70747c44a77c7bcd40155683ae19c65e1c03b4aa3499c5328201f1"
  },
  "kernelspec": {
   "display_name": "Python 3.6.8 64-bit",
   "language": "python",
   "name": "python3"
  },
  "language_info": {
   "codemirror_mode": {
    "name": "ipython",
    "version": 3
   },
   "file_extension": ".py",
   "mimetype": "text/x-python",
   "name": "python",
   "nbconvert_exporter": "python",
   "pygments_lexer": "ipython3",
   "version": "3.6.8"
  },
  "orig_nbformat": 4
 },
 "nbformat": 4,
 "nbformat_minor": 2
}
